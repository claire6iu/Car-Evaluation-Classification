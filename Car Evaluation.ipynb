{
 "cells": [
  {
   "cell_type": "markdown",
   "id": "06da3ec7",
   "metadata": {},
   "source": [
    "# Car Evaluation"
   ]
  },
  {
   "cell_type": "markdown",
   "id": "c54e56f1",
   "metadata": {},
   "source": [
    "## Setup"
   ]
  },
  {
   "cell_type": "code",
   "execution_count": 1,
   "id": "343a9735",
   "metadata": {},
   "outputs": [],
   "source": [
    "%matplotlib inline\n",
    "import matplotlib.pyplot as plt\n",
    "import seaborn as sns\n",
    "\n",
    "import numpy as np\n",
    "import pandas as pd\n",
    "\n",
    "from sklearn.model_selection import GridSearchCV, cross_val_score, KFold, train_test_split\n",
    "from sklearn.preprocessing import StandardScaler, OrdinalEncoder, LabelEncoder, OneHotEncoder\n",
    "from sklearn.pipeline import Pipeline\n",
    "from sklearn import tree\n",
    "from sklearn.linear_model import LogisticRegression\n",
    "from sklearn.neighbors import KNeighborsClassifier\n",
    "from sklearn.svm import SVC\n",
    "from sklearn import metrics"
   ]
  },
  {
   "cell_type": "code",
   "execution_count": 2,
   "id": "38a9060a",
   "metadata": {},
   "outputs": [],
   "source": [
    "import warnings\n",
    "warnings.filterwarnings(\"ignore\")"
   ]
  },
  {
   "cell_type": "markdown",
   "id": "7c17c7d2",
   "metadata": {},
   "source": [
    "## Load the Data"
   ]
  },
  {
   "cell_type": "code",
   "execution_count": 23,
   "id": "e2755bb0",
   "metadata": {},
   "outputs": [],
   "source": [
    "url = \"https://archive.ics.uci.edu/static/public/19/data.csv\"\n",
    "df = pd.read_csv(url)"
   ]
  },
  {
   "cell_type": "code",
   "execution_count": 24,
   "id": "2fe6be37",
   "metadata": {},
   "outputs": [
    {
     "data": {
      "text/html": [
       "<div>\n",
       "<style scoped>\n",
       "    .dataframe tbody tr th:only-of-type {\n",
       "        vertical-align: middle;\n",
       "    }\n",
       "\n",
       "    .dataframe tbody tr th {\n",
       "        vertical-align: top;\n",
       "    }\n",
       "\n",
       "    .dataframe thead th {\n",
       "        text-align: right;\n",
       "    }\n",
       "</style>\n",
       "<table border=\"1\" class=\"dataframe\">\n",
       "  <thead>\n",
       "    <tr style=\"text-align: right;\">\n",
       "      <th></th>\n",
       "      <th>buying</th>\n",
       "      <th>maint</th>\n",
       "      <th>doors</th>\n",
       "      <th>persons</th>\n",
       "      <th>lug_boot</th>\n",
       "      <th>safety</th>\n",
       "      <th>class</th>\n",
       "    </tr>\n",
       "  </thead>\n",
       "  <tbody>\n",
       "    <tr>\n",
       "      <th>0</th>\n",
       "      <td>vhigh</td>\n",
       "      <td>vhigh</td>\n",
       "      <td>2</td>\n",
       "      <td>2</td>\n",
       "      <td>small</td>\n",
       "      <td>low</td>\n",
       "      <td>unacc</td>\n",
       "    </tr>\n",
       "    <tr>\n",
       "      <th>1</th>\n",
       "      <td>vhigh</td>\n",
       "      <td>vhigh</td>\n",
       "      <td>2</td>\n",
       "      <td>2</td>\n",
       "      <td>small</td>\n",
       "      <td>med</td>\n",
       "      <td>unacc</td>\n",
       "    </tr>\n",
       "    <tr>\n",
       "      <th>2</th>\n",
       "      <td>vhigh</td>\n",
       "      <td>vhigh</td>\n",
       "      <td>2</td>\n",
       "      <td>2</td>\n",
       "      <td>small</td>\n",
       "      <td>high</td>\n",
       "      <td>unacc</td>\n",
       "    </tr>\n",
       "    <tr>\n",
       "      <th>3</th>\n",
       "      <td>vhigh</td>\n",
       "      <td>vhigh</td>\n",
       "      <td>2</td>\n",
       "      <td>2</td>\n",
       "      <td>med</td>\n",
       "      <td>low</td>\n",
       "      <td>unacc</td>\n",
       "    </tr>\n",
       "    <tr>\n",
       "      <th>4</th>\n",
       "      <td>vhigh</td>\n",
       "      <td>vhigh</td>\n",
       "      <td>2</td>\n",
       "      <td>2</td>\n",
       "      <td>med</td>\n",
       "      <td>med</td>\n",
       "      <td>unacc</td>\n",
       "    </tr>\n",
       "  </tbody>\n",
       "</table>\n",
       "</div>"
      ],
      "text/plain": [
       "  buying  maint doors persons lug_boot safety  class\n",
       "0  vhigh  vhigh     2       2    small    low  unacc\n",
       "1  vhigh  vhigh     2       2    small    med  unacc\n",
       "2  vhigh  vhigh     2       2    small   high  unacc\n",
       "3  vhigh  vhigh     2       2      med    low  unacc\n",
       "4  vhigh  vhigh     2       2      med    med  unacc"
      ]
     },
     "execution_count": 24,
     "metadata": {},
     "output_type": "execute_result"
    }
   ],
   "source": [
    "df.head()"
   ]
  },
  {
   "cell_type": "code",
   "execution_count": 25,
   "id": "cec715b4",
   "metadata": {},
   "outputs": [
    {
     "name": "stdout",
     "output_type": "stream",
     "text": [
      "<class 'pandas.core.frame.DataFrame'>\n",
      "RangeIndex: 1728 entries, 0 to 1727\n",
      "Data columns (total 7 columns):\n",
      " #   Column    Non-Null Count  Dtype \n",
      "---  ------    --------------  ----- \n",
      " 0   buying    1728 non-null   object\n",
      " 1   maint     1728 non-null   object\n",
      " 2   doors     1728 non-null   object\n",
      " 3   persons   1728 non-null   object\n",
      " 4   lug_boot  1728 non-null   object\n",
      " 5   safety    1728 non-null   object\n",
      " 6   class     1728 non-null   object\n",
      "dtypes: object(7)\n",
      "memory usage: 94.6+ KB\n"
     ]
    }
   ],
   "source": [
    "df.info()"
   ]
  },
  {
   "cell_type": "code",
   "execution_count": 26,
   "id": "ed627462",
   "metadata": {},
   "outputs": [
    {
     "name": "stdout",
     "output_type": "stream",
     "text": [
      "vhigh    432\n",
      "high     432\n",
      "med      432\n",
      "low      432\n",
      "Name: buying, dtype: int64\n",
      "vhigh    432\n",
      "high     432\n",
      "med      432\n",
      "low      432\n",
      "Name: maint, dtype: int64\n",
      "2        432\n",
      "3        432\n",
      "4        432\n",
      "5more    432\n",
      "Name: doors, dtype: int64\n",
      "2       576\n",
      "4       576\n",
      "more    576\n",
      "Name: persons, dtype: int64\n",
      "small    576\n",
      "med      576\n",
      "big      576\n",
      "Name: lug_boot, dtype: int64\n",
      "low     576\n",
      "med     576\n",
      "high    576\n",
      "Name: safety, dtype: int64\n",
      "unacc    1210\n",
      "acc       384\n",
      "good       69\n",
      "vgood      65\n",
      "Name: class, dtype: int64\n"
     ]
    }
   ],
   "source": [
    "for col in df.columns:\n",
    "    print(df[col].value_counts())"
   ]
  },
  {
   "cell_type": "markdown",
   "id": "0b8bb4f3",
   "metadata": {},
   "source": [
    "## Data Modeling\n",
    "Two criteria:\n",
    "1. Treat input variables as numeric\n",
    "2. Treat input variables as categorical \n",
    "\n",
    "Flow:\n",
    "- Step 1: Nested CV - identify the best model \n",
    "- Step 2: GridSearchCV - Find the best hyperparameter set for the best model\n",
    "- Step 3: Build the optimal model based on the results of GridSearchCV"
   ]
  },
  {
   "cell_type": "markdown",
   "id": "d782409d",
   "metadata": {},
   "source": [
    "### 1. Treat input variables as numerical"
   ]
  },
  {
   "cell_type": "markdown",
   "id": "cc6da942",
   "metadata": {},
   "source": [
    "### Step 1: Nested CV - identify the best model "
   ]
  },
  {
   "cell_type": "markdown",
   "id": "cc5339a0",
   "metadata": {},
   "source": [
    "### Data Processing - ordinal encoding and label encoding"
   ]
  },
  {
   "cell_type": "code",
   "execution_count": 27,
   "id": "05e3b52b",
   "metadata": {},
   "outputs": [],
   "source": [
    "# separate into input and output columns\n",
    "X = df.drop('class', axis=1)\n",
    "y = df['class']\n",
    "\n",
    "# ordinal encode input variables\n",
    "ordinal_encoder = OrdinalEncoder()\n",
    "X = ordinal_encoder.fit(X).transform(X)\n",
    "\n",
    "# lable encode target variables\n",
    "label_encoder = LabelEncoder()\n",
    "y = label_encoder.fit(y).transform(y)"
   ]
  },
  {
   "cell_type": "markdown",
   "id": "c0e4f85f",
   "metadata": {},
   "source": [
    "### 1. Decision Tree"
   ]
  },
  {
   "cell_type": "code",
   "execution_count": 28,
   "id": "d33ac7f9",
   "metadata": {},
   "outputs": [
    {
     "name": "stdout",
     "output_type": "stream",
     "text": [
      "Accuracy: 0.98148\n"
     ]
    }
   ],
   "source": [
    "# configure inner loop cross-validation\n",
    "cv_inner = KFold(n_splits=3, shuffle=True, random_state=42)\n",
    "\n",
    "# define the model\n",
    "clf = tree.DecisionTreeClassifier(random_state=42)\n",
    "\n",
    "# define hyparameter to search\n",
    "param_grid = {\n",
    "    'max_depth': list(range(1, 21)),\n",
    "    'criterion': ['gini','entropy']\n",
    "}\n",
    "\n",
    "# define search - using GridSearchCV and refit the model with the best hyparameter set\n",
    "search = GridSearchCV(clf, param_grid, scoring='accuracy', cv=cv_inner, refit=True)\n",
    "\n",
    "# configure outer loop cross-validation\n",
    "cv_outer = KFold(n_splits=10, shuffle=True, random_state=42)\n",
    "\n",
    "# executed the nested CV\n",
    "scores = cross_val_score(search, X, y, scoring='accuracy', cv=cv_outer)\n",
    "\n",
    "# report average performace\n",
    "print('Accuracy: {0:.5f}'.format(np.mean(scores)))"
   ]
  },
  {
   "cell_type": "markdown",
   "id": "9f4a10be",
   "metadata": {},
   "source": [
    "### 2. Logistic Regression"
   ]
  },
  {
   "cell_type": "code",
   "execution_count": 29,
   "id": "21ce3cfc",
   "metadata": {},
   "outputs": [
    {
     "name": "stdout",
     "output_type": "stream",
     "text": [
      "Accuracy: 0.70193\n"
     ]
    }
   ],
   "source": [
    "# configure inner loop cross-validation\n",
    "cv_inner = KFold(n_splits=3, shuffle=True, random_state=42)\n",
    "\n",
    "# define the model\n",
    "clf = LogisticRegression(random_state=42, max_iter=1000)\n",
    "\n",
    "# define hyparameter to search\n",
    "param_grid = {\n",
    "    'C': [0.001, 0.01, 0.1, 1, 10, 100, 1000]\n",
    "}\n",
    "\n",
    "# define search - using GridSearchCV and refit the model with the best hyparameter set\n",
    "search = GridSearchCV(clf, param_grid, scoring='accuracy', cv=cv_inner, refit=True)\n",
    "\n",
    "# configure outer loop cross-validation\n",
    "cv_outer = KFold(n_splits=10, shuffle=True, random_state=42)\n",
    "\n",
    "# executed the nested CV\n",
    "scores = cross_val_score(search, X, y, scoring='accuracy', cv=cv_outer)\n",
    "\n",
    "# report average performace\n",
    "print('Accuracy: {0:.5f}'.format(np.mean(scores)))"
   ]
  },
  {
   "cell_type": "markdown",
   "id": "b5d3066c",
   "metadata": {},
   "source": [
    "### 3. SVM"
   ]
  },
  {
   "cell_type": "code",
   "execution_count": 30,
   "id": "f6ff0be4",
   "metadata": {},
   "outputs": [
    {
     "name": "stdout",
     "output_type": "stream",
     "text": [
      "Accuracy: 0.98206\n"
     ]
    }
   ],
   "source": [
    "# configure inner loop cross-validation\n",
    "cv_inner = KFold(n_splits=3, shuffle=True, random_state=42)\n",
    "\n",
    "# define the model\n",
    "clf = SVC(random_state=42)\n",
    "\n",
    "# define hyparameter to search\n",
    "param_grid = {\n",
    "    'C': [0.001, 0.01, 0.1, 1, 10],\n",
    "    'gamma': [0.001, 0.01, 0.1, 1]\n",
    "}\n",
    "\n",
    "# define search - using GridSearchCV and refit the model with the best hyparameter set\n",
    "search = GridSearchCV(clf, param_grid, scoring='accuracy', cv=cv_inner, refit=True)\n",
    "\n",
    "# configure outer loop cross-validation\n",
    "cv_outer = KFold(n_splits=10, shuffle=True, random_state=42)\n",
    "\n",
    "# executed the nested CV\n",
    "scores = cross_val_score(search, X, y, scoring='accuracy', cv=cv_outer)\n",
    "\n",
    "# report average performace\n",
    "print('Accuracy: {0:.5f}'.format(np.mean(scores)))"
   ]
  },
  {
   "cell_type": "markdown",
   "id": "609140a1",
   "metadata": {},
   "source": [
    "### 4. KNN"
   ]
  },
  {
   "cell_type": "code",
   "execution_count": 31,
   "id": "76f73b67",
   "metadata": {},
   "outputs": [
    {
     "name": "stdout",
     "output_type": "stream",
     "text": [
      "Accuracy: 0.87380\n"
     ]
    }
   ],
   "source": [
    "# configure inner loop cross-validation\n",
    "cv_inner = KFold(n_splits=3, shuffle=True, random_state=42)\n",
    "\n",
    "# define the model\n",
    "clf = KNeighborsClassifier()\n",
    "\n",
    "# define hyparameter to search\n",
    "param_grid = {'n_neighbors': list(range(1,21))}\n",
    "\n",
    "# define search - using GridSearchCV and refit the model with the best hyparameter set\n",
    "search = GridSearchCV(clf, param_grid, scoring='accuracy', cv=cv_inner, refit=True)\n",
    " \n",
    "# configure outer loop cross-validation\n",
    "cv_outer = KFold(n_splits=10, shuffle=True, random_state=42)\n",
    "\n",
    "# executed the nested CV\n",
    "scores = cross_val_score(search, X, y, scoring='accuracy', cv=cv_outer)\n",
    "\n",
    "# report average performace\n",
    "print('Accuracy: {0:.5f}'.format(np.mean(scores)))"
   ]
  },
  {
   "cell_type": "markdown",
   "id": "cbdcb9a0",
   "metadata": {},
   "source": [
    "### The SVM model has the best performance with an accuracy of 0.98206"
   ]
  },
  {
   "cell_type": "markdown",
   "id": "eee919af",
   "metadata": {},
   "source": [
    "### Step 2: GridSearchCV - Find the best hyperparameter set for the best model"
   ]
  },
  {
   "cell_type": "code",
   "execution_count": 32,
   "id": "87b410ac",
   "metadata": {},
   "outputs": [
    {
     "data": {
      "text/html": [
       "<style>#sk-container-id-2 {color: black;background-color: white;}#sk-container-id-2 pre{padding: 0;}#sk-container-id-2 div.sk-toggleable {background-color: white;}#sk-container-id-2 label.sk-toggleable__label {cursor: pointer;display: block;width: 100%;margin-bottom: 0;padding: 0.3em;box-sizing: border-box;text-align: center;}#sk-container-id-2 label.sk-toggleable__label-arrow:before {content: \"▸\";float: left;margin-right: 0.25em;color: #696969;}#sk-container-id-2 label.sk-toggleable__label-arrow:hover:before {color: black;}#sk-container-id-2 div.sk-estimator:hover label.sk-toggleable__label-arrow:before {color: black;}#sk-container-id-2 div.sk-toggleable__content {max-height: 0;max-width: 0;overflow: hidden;text-align: left;background-color: #f0f8ff;}#sk-container-id-2 div.sk-toggleable__content pre {margin: 0.2em;color: black;border-radius: 0.25em;background-color: #f0f8ff;}#sk-container-id-2 input.sk-toggleable__control:checked~div.sk-toggleable__content {max-height: 200px;max-width: 100%;overflow: auto;}#sk-container-id-2 input.sk-toggleable__control:checked~label.sk-toggleable__label-arrow:before {content: \"▾\";}#sk-container-id-2 div.sk-estimator input.sk-toggleable__control:checked~label.sk-toggleable__label {background-color: #d4ebff;}#sk-container-id-2 div.sk-label input.sk-toggleable__control:checked~label.sk-toggleable__label {background-color: #d4ebff;}#sk-container-id-2 input.sk-hidden--visually {border: 0;clip: rect(1px 1px 1px 1px);clip: rect(1px, 1px, 1px, 1px);height: 1px;margin: -1px;overflow: hidden;padding: 0;position: absolute;width: 1px;}#sk-container-id-2 div.sk-estimator {font-family: monospace;background-color: #f0f8ff;border: 1px dotted black;border-radius: 0.25em;box-sizing: border-box;margin-bottom: 0.5em;}#sk-container-id-2 div.sk-estimator:hover {background-color: #d4ebff;}#sk-container-id-2 div.sk-parallel-item::after {content: \"\";width: 100%;border-bottom: 1px solid gray;flex-grow: 1;}#sk-container-id-2 div.sk-label:hover label.sk-toggleable__label {background-color: #d4ebff;}#sk-container-id-2 div.sk-serial::before {content: \"\";position: absolute;border-left: 1px solid gray;box-sizing: border-box;top: 0;bottom: 0;left: 50%;z-index: 0;}#sk-container-id-2 div.sk-serial {display: flex;flex-direction: column;align-items: center;background-color: white;padding-right: 0.2em;padding-left: 0.2em;position: relative;}#sk-container-id-2 div.sk-item {position: relative;z-index: 1;}#sk-container-id-2 div.sk-parallel {display: flex;align-items: stretch;justify-content: center;background-color: white;position: relative;}#sk-container-id-2 div.sk-item::before, #sk-container-id-2 div.sk-parallel-item::before {content: \"\";position: absolute;border-left: 1px solid gray;box-sizing: border-box;top: 0;bottom: 0;left: 50%;z-index: -1;}#sk-container-id-2 div.sk-parallel-item {display: flex;flex-direction: column;z-index: 1;position: relative;background-color: white;}#sk-container-id-2 div.sk-parallel-item:first-child::after {align-self: flex-end;width: 50%;}#sk-container-id-2 div.sk-parallel-item:last-child::after {align-self: flex-start;width: 50%;}#sk-container-id-2 div.sk-parallel-item:only-child::after {width: 0;}#sk-container-id-2 div.sk-dashed-wrapped {border: 1px dashed gray;margin: 0 0.4em 0.5em 0.4em;box-sizing: border-box;padding-bottom: 0.4em;background-color: white;}#sk-container-id-2 div.sk-label label {font-family: monospace;font-weight: bold;display: inline-block;line-height: 1.2em;}#sk-container-id-2 div.sk-label-container {text-align: center;}#sk-container-id-2 div.sk-container {/* jupyter's `normalize.less` sets `[hidden] { display: none; }` but bootstrap.min.css set `[hidden] { display: none !important; }` so we also need the `!important` here to be able to override the default hidden behavior on the sphinx rendered scikit-learn.org. See: https://github.com/scikit-learn/scikit-learn/issues/21755 */display: inline-block !important;position: relative;}#sk-container-id-2 div.sk-text-repr-fallback {display: none;}</style><div id=\"sk-container-id-2\" class=\"sk-top-container\"><div class=\"sk-text-repr-fallback\"><pre>GridSearchCV(cv=5, estimator=SVC(),\n",
       "             param_grid={&#x27;C&#x27;: [0.001, 0.01, 0.1, 1, 10],\n",
       "                         &#x27;gamma&#x27;: [0.001, 0.01, 0.1, 1]},\n",
       "             scoring=&#x27;accuracy&#x27;)</pre><b>In a Jupyter environment, please rerun this cell to show the HTML representation or trust the notebook. <br />On GitHub, the HTML representation is unable to render, please try loading this page with nbviewer.org.</b></div><div class=\"sk-container\" hidden><div class=\"sk-item sk-dashed-wrapped\"><div class=\"sk-label-container\"><div class=\"sk-label sk-toggleable\"><input class=\"sk-toggleable__control sk-hidden--visually\" id=\"sk-estimator-id-4\" type=\"checkbox\" ><label for=\"sk-estimator-id-4\" class=\"sk-toggleable__label sk-toggleable__label-arrow\">GridSearchCV</label><div class=\"sk-toggleable__content\"><pre>GridSearchCV(cv=5, estimator=SVC(),\n",
       "             param_grid={&#x27;C&#x27;: [0.001, 0.01, 0.1, 1, 10],\n",
       "                         &#x27;gamma&#x27;: [0.001, 0.01, 0.1, 1]},\n",
       "             scoring=&#x27;accuracy&#x27;)</pre></div></div></div><div class=\"sk-parallel\"><div class=\"sk-parallel-item\"><div class=\"sk-item\"><div class=\"sk-label-container\"><div class=\"sk-label sk-toggleable\"><input class=\"sk-toggleable__control sk-hidden--visually\" id=\"sk-estimator-id-5\" type=\"checkbox\" ><label for=\"sk-estimator-id-5\" class=\"sk-toggleable__label sk-toggleable__label-arrow\">estimator: SVC</label><div class=\"sk-toggleable__content\"><pre>SVC()</pre></div></div></div><div class=\"sk-serial\"><div class=\"sk-item\"><div class=\"sk-estimator sk-toggleable\"><input class=\"sk-toggleable__control sk-hidden--visually\" id=\"sk-estimator-id-6\" type=\"checkbox\" ><label for=\"sk-estimator-id-6\" class=\"sk-toggleable__label sk-toggleable__label-arrow\">SVC</label><div class=\"sk-toggleable__content\"><pre>SVC()</pre></div></div></div></div></div></div></div></div></div></div>"
      ],
      "text/plain": [
       "GridSearchCV(cv=5, estimator=SVC(),\n",
       "             param_grid={'C': [0.001, 0.01, 0.1, 1, 10],\n",
       "                         'gamma': [0.001, 0.01, 0.1, 1]},\n",
       "             scoring='accuracy')"
      ]
     },
     "execution_count": 32,
     "metadata": {},
     "output_type": "execute_result"
    }
   ],
   "source": [
    "# separate into input and output columns\n",
    "X = df.drop('class', axis=1)\n",
    "y = df['class']\n",
    "\n",
    "# train-test split\n",
    "X_train, X_test, y_train, y_test = train_test_split(X, y, test_size=0.33, random_state=38)\n",
    "\n",
    "# fit encoding on the training data first, then apply to training and testing data\n",
    "# ordinal encode input variables\n",
    "ordinal_encoder = OrdinalEncoder()\n",
    "ordinal_encoder.fit(X_train)\n",
    "X_train = ordinal_encoder.transform(X_train)\n",
    "\n",
    "# lable encode target variables\n",
    "label_encoder = LabelEncoder()\n",
    "label_encoder.fit(y_train) \n",
    "y_train = label_encoder.transform(y_train)\n",
    "\n",
    "# define the model \n",
    "svm_clf_grid = SVC()\n",
    "\n",
    "# define hyparameter to search\n",
    "param_grid = {\n",
    "    'C': [0.001, 0.01, 0.1, 1, 10],\n",
    "    'gamma': [0.001, 0.01, 0.1, 1]\n",
    "}\n",
    "\n",
    "# define search\n",
    "grid_search = GridSearchCV(svm_clf_grid, param_grid, scoring='accuracy', cv=5)\n",
    "\n",
    "# fit the model\n",
    "grid_search.fit(X_train, y_train)"
   ]
  },
  {
   "cell_type": "markdown",
   "id": "2ac3ecb1",
   "metadata": {},
   "source": [
    "### Best parameter set"
   ]
  },
  {
   "cell_type": "code",
   "execution_count": 33,
   "id": "6c4a4db1",
   "metadata": {},
   "outputs": [
    {
     "data": {
      "text/plain": [
       "{'C': 10, 'gamma': 0.1}"
      ]
     },
     "execution_count": 33,
     "metadata": {},
     "output_type": "execute_result"
    }
   ],
   "source": [
    "grid_search.best_params_"
   ]
  },
  {
   "cell_type": "markdown",
   "id": "ab5a3234",
   "metadata": {},
   "source": [
    "### Step 3: Build the optimal model based on the results of GridSearchCV"
   ]
  },
  {
   "cell_type": "markdown",
   "id": "40063751",
   "metadata": {},
   "source": [
    "### Train and fit the model"
   ]
  },
  {
   "cell_type": "code",
   "execution_count": 34,
   "id": "7020ff14",
   "metadata": {},
   "outputs": [],
   "source": [
    "# separate into input and output columns\n",
    "X = df.drop('class', axis=1)\n",
    "y = df['class']\n",
    "\n",
    "# train-test split\n",
    "X_train, X_test, y_train, y_test = train_test_split(X, y, test_size=0.33, random_state=38)\n",
    "\n",
    "# fit encoding on the training data first, then apply to training and testing data\n",
    "# ordinal encode input variables\n",
    "ordinal_encoder = OrdinalEncoder()\n",
    "ordinal_encoder.fit(X_train)\n",
    "X_train = ordinal_encoder.transform(X_train)\n",
    "X_test = ordinal_encoder.transform(X_test)\n",
    "\n",
    "# lable encode target variables\n",
    "label_encoder = LabelEncoder()\n",
    "label_encoder.fit(y_train) \n",
    "y_train = label_encoder.transform(y_train)\n",
    "y_test = label_encoder.transform(y_test)\n",
    "\n",
    "# define the model\n",
    "svm_clf_best = SVC(C=10, gamma=0.1)\n",
    "\n",
    "# fit on training dataset\n",
    "svm_clf_best.fit(X_train, y_train)\n",
    "\n",
    "# predict on testing dataset\n",
    "y_pred = svm_clf_best.predict(X_test)\n",
    "# y_score = tree_clf_best.predict_proba(X_test)"
   ]
  },
  {
   "cell_type": "markdown",
   "id": "0530fc86",
   "metadata": {},
   "source": [
    "### Performance Measures"
   ]
  },
  {
   "cell_type": "markdown",
   "id": "169dc355",
   "metadata": {},
   "source": [
    "### Precision, Recall, Accuracy, F1"
   ]
  },
  {
   "cell_type": "code",
   "execution_count": 35,
   "id": "70988c60",
   "metadata": {},
   "outputs": [
    {
     "name": "stdout",
     "output_type": "stream",
     "text": [
      "Accuracy: 0.96322\n"
     ]
    }
   ],
   "source": [
    "print(\"Accuracy: \" + str(round(metrics.accuracy_score(y_test, y_pred),5)))"
   ]
  },
  {
   "cell_type": "code",
   "execution_count": 36,
   "id": "c74d7327",
   "metadata": {
    "scrolled": true
   },
   "outputs": [
    {
     "name": "stdout",
     "output_type": "stream",
     "text": [
      "              precision    recall  f1-score   support\n",
      "\n",
      "           0       0.85      0.96      0.90       104\n",
      "           1       0.95      0.88      0.91        24\n",
      "           2       1.00      0.97      0.98       415\n",
      "           3       0.97      1.00      0.98        28\n",
      "\n",
      "    accuracy                           0.96       571\n",
      "   macro avg       0.94      0.95      0.95       571\n",
      "weighted avg       0.97      0.96      0.96       571\n",
      "\n"
     ]
    }
   ],
   "source": [
    "print(metrics.classification_report(y_test, y_pred))"
   ]
  },
  {
   "cell_type": "markdown",
   "id": "a429892a",
   "metadata": {},
   "source": [
    "### Confusion martix"
   ]
  },
  {
   "cell_type": "code",
   "execution_count": 37,
   "id": "9d51e206",
   "metadata": {},
   "outputs": [
    {
     "data": {
      "text/plain": [
       "array([[100,   1,   2,   1],\n",
       "       [  3,  21,   0,   0],\n",
       "       [ 14,   0, 401,   0],\n",
       "       [  0,   0,   0,  28]])"
      ]
     },
     "execution_count": 37,
     "metadata": {},
     "output_type": "execute_result"
    }
   ],
   "source": [
    "metrics.confusion_matrix(y_test, y_pred)"
   ]
  },
  {
   "cell_type": "markdown",
   "id": "97377745",
   "metadata": {},
   "source": [
    "### By treating the target variables as numeric, we achieved the best model performance with the SVM, resulting in an overall accuracy of 0.96322"
   ]
  },
  {
   "cell_type": "markdown",
   "id": "dd5bdace",
   "metadata": {},
   "source": [
    "### 2. Treat input variables as categorical"
   ]
  },
  {
   "cell_type": "markdown",
   "id": "d387d544",
   "metadata": {},
   "source": [
    "### Step 1: Nested CV - identify the best model "
   ]
  },
  {
   "cell_type": "markdown",
   "id": "bcc0e6ee",
   "metadata": {},
   "source": [
    "### Data Processing - one−hot encoding and label encoding"
   ]
  },
  {
   "cell_type": "code",
   "execution_count": 38,
   "id": "80442fc3",
   "metadata": {},
   "outputs": [],
   "source": [
    "# separate into input and output columns\n",
    "X = df.drop('class', axis=1)\n",
    "y = df['class']\n",
    "\n",
    "# ordinal encode input variables\n",
    "onehot_encoder = OneHotEncoder(sparse=False)\n",
    "X = onehot_encoder.fit(X).transform(X)\n",
    "\n",
    "# lable encode target variables\n",
    "label_encoder = LabelEncoder()\n",
    "y = label_encoder.fit(y).transform(y)"
   ]
  },
  {
   "cell_type": "markdown",
   "id": "25830095",
   "metadata": {},
   "source": [
    "### 1. Decision Tree"
   ]
  },
  {
   "cell_type": "code",
   "execution_count": 39,
   "id": "45dfffcb",
   "metadata": {},
   "outputs": [
    {
     "name": "stdout",
     "output_type": "stream",
     "text": [
      "Accuracy: 0.97048\n"
     ]
    }
   ],
   "source": [
    "# configure inner loop cross-validation\n",
    "cv_inner = KFold(n_splits=3, shuffle=True, random_state=42)\n",
    "\n",
    "# define the model\n",
    "clf = tree.DecisionTreeClassifier(random_state=42)\n",
    "\n",
    "# define hyparameter to search\n",
    "param_grid = {\n",
    "    'max_depth': list(range(1, 21)),\n",
    "    'criterion': ['gini','entropy']\n",
    "}\n",
    "\n",
    "# define search - using GridSearchCV and refit the model with the best hyparameter set\n",
    "search = GridSearchCV(clf, param_grid, scoring='accuracy', cv=cv_inner, refit=True)\n",
    "\n",
    "# configure outer loop cross-validation\n",
    "cv_outer = KFold(n_splits=10, shuffle=True, random_state=42)\n",
    "\n",
    "# executed the nested CV\n",
    "scores = cross_val_score(search, X, y, scoring='accuracy', cv=cv_outer)\n",
    "\n",
    "# report average performace\n",
    "print('Accuracy: {0:.5f}'.format(np.mean(scores)))"
   ]
  },
  {
   "cell_type": "markdown",
   "id": "8423c212",
   "metadata": {},
   "source": [
    "### 2. Logistic Regression"
   ]
  },
  {
   "cell_type": "code",
   "execution_count": 40,
   "id": "9ea3d4a6",
   "metadata": {},
   "outputs": [
    {
     "name": "stdout",
     "output_type": "stream",
     "text": [
      "Accuracy: 0.93170\n"
     ]
    }
   ],
   "source": [
    "# configure inner loop cross-validation\n",
    "cv_inner = KFold(n_splits=3, shuffle=True, random_state=42)\n",
    "\n",
    "# define the model\n",
    "clf = LogisticRegression(random_state=42, max_iter=1000)\n",
    "\n",
    "# define hyparameter to search\n",
    "param_grid = {\n",
    "    'C': [0.001, 0.01, 0.1, 1, 10, 100, 1000]\n",
    "}\n",
    "\n",
    "# define search - using GridSearchCV and refit the model with the best hyparameter set\n",
    "search = GridSearchCV(clf, param_grid, scoring='accuracy', cv=cv_inner, refit=True)\n",
    "\n",
    "# configure outer loop cross-validation\n",
    "cv_outer = KFold(n_splits=10, shuffle=True, random_state=42)\n",
    "\n",
    "# executed the nested CV\n",
    "scores = cross_val_score(search, X, y, scoring='accuracy', cv=cv_outer)\n",
    "\n",
    "# report average performace\n",
    "print('Accuracy: {0:.5f}'.format(np.mean(scores)))"
   ]
  },
  {
   "cell_type": "markdown",
   "id": "3ea6f6b1",
   "metadata": {},
   "source": [
    "### 3. SVM"
   ]
  },
  {
   "cell_type": "code",
   "execution_count": 41,
   "id": "2fa79b7f",
   "metadata": {},
   "outputs": [
    {
     "name": "stdout",
     "output_type": "stream",
     "text": [
      "Accuracy: 0.99248\n"
     ]
    }
   ],
   "source": [
    "# configure inner loop cross-validation\n",
    "cv_inner = KFold(n_splits=3, shuffle=True, random_state=42)\n",
    "\n",
    "# define the model\n",
    "clf = SVC(random_state=42)\n",
    "\n",
    "# define hyparameter to search\n",
    "param_grid = {\n",
    "    'C': [0.001, 0.01, 0.1, 1, 10],\n",
    "    'gamma': [0.001, 0.01, 0.1, 1]\n",
    "}\n",
    "\n",
    "# define search - using GridSearchCV and refit the model with the best hyparameter set\n",
    "search = GridSearchCV(clf, param_grid, scoring='accuracy', cv=cv_inner, refit=True)\n",
    "\n",
    "# configure outer loop cross-validation\n",
    "cv_outer = KFold(n_splits=10, shuffle=True, random_state=42)\n",
    "\n",
    "# executed the nested CV\n",
    "scores = cross_val_score(search, X, y, scoring='accuracy', cv=cv_outer)\n",
    "\n",
    "# report average performace\n",
    "print('Accuracy: {0:.5f}'.format(np.mean(scores)))"
   ]
  },
  {
   "cell_type": "markdown",
   "id": "9b9738b8",
   "metadata": {},
   "source": [
    "### 4. KNN"
   ]
  },
  {
   "cell_type": "code",
   "execution_count": 42,
   "id": "e70eb5a3",
   "metadata": {},
   "outputs": [
    {
     "name": "stdout",
     "output_type": "stream",
     "text": [
      "Accuracy: 0.87441\n"
     ]
    }
   ],
   "source": [
    "# configure inner loop cross-validation\n",
    "cv_inner = KFold(n_splits=3, shuffle=True, random_state=42)\n",
    "\n",
    "# define the model\n",
    "clf = KNeighborsClassifier()\n",
    "\n",
    "# define hyparameter to search\n",
    "param_grid = {'n_neighbors': list(range(1,21))}\n",
    "\n",
    "# define search - using GridSearchCV and refit the model with the best hyparameter set\n",
    "search = GridSearchCV(clf, param_grid, scoring='accuracy', cv=cv_inner, refit=True)\n",
    "\n",
    "# configure outer loop cross-validation\n",
    "cv_outer = KFold(n_splits=10, shuffle=True, random_state=42)\n",
    "\n",
    "# executed the nested CV\n",
    "scores = cross_val_score(search, X, y, scoring='accuracy', cv=cv_outer)\n",
    "\n",
    "# report average performace\n",
    "print('Accuracy: {0:.5f}'.format(np.mean(scores)))"
   ]
  },
  {
   "cell_type": "markdown",
   "id": "70b02f46",
   "metadata": {},
   "source": [
    "### The SVM model has the best performance with an accuracy of 0.99248"
   ]
  },
  {
   "cell_type": "markdown",
   "id": "7d3d9be4",
   "metadata": {},
   "source": [
    "### Step 2: GridSearchCV - Find the best hyperparameter set for the best model"
   ]
  },
  {
   "cell_type": "code",
   "execution_count": 43,
   "id": "ad7fb36c",
   "metadata": {},
   "outputs": [
    {
     "data": {
      "text/html": [
       "<style>#sk-container-id-3 {color: black;background-color: white;}#sk-container-id-3 pre{padding: 0;}#sk-container-id-3 div.sk-toggleable {background-color: white;}#sk-container-id-3 label.sk-toggleable__label {cursor: pointer;display: block;width: 100%;margin-bottom: 0;padding: 0.3em;box-sizing: border-box;text-align: center;}#sk-container-id-3 label.sk-toggleable__label-arrow:before {content: \"▸\";float: left;margin-right: 0.25em;color: #696969;}#sk-container-id-3 label.sk-toggleable__label-arrow:hover:before {color: black;}#sk-container-id-3 div.sk-estimator:hover label.sk-toggleable__label-arrow:before {color: black;}#sk-container-id-3 div.sk-toggleable__content {max-height: 0;max-width: 0;overflow: hidden;text-align: left;background-color: #f0f8ff;}#sk-container-id-3 div.sk-toggleable__content pre {margin: 0.2em;color: black;border-radius: 0.25em;background-color: #f0f8ff;}#sk-container-id-3 input.sk-toggleable__control:checked~div.sk-toggleable__content {max-height: 200px;max-width: 100%;overflow: auto;}#sk-container-id-3 input.sk-toggleable__control:checked~label.sk-toggleable__label-arrow:before {content: \"▾\";}#sk-container-id-3 div.sk-estimator input.sk-toggleable__control:checked~label.sk-toggleable__label {background-color: #d4ebff;}#sk-container-id-3 div.sk-label input.sk-toggleable__control:checked~label.sk-toggleable__label {background-color: #d4ebff;}#sk-container-id-3 input.sk-hidden--visually {border: 0;clip: rect(1px 1px 1px 1px);clip: rect(1px, 1px, 1px, 1px);height: 1px;margin: -1px;overflow: hidden;padding: 0;position: absolute;width: 1px;}#sk-container-id-3 div.sk-estimator {font-family: monospace;background-color: #f0f8ff;border: 1px dotted black;border-radius: 0.25em;box-sizing: border-box;margin-bottom: 0.5em;}#sk-container-id-3 div.sk-estimator:hover {background-color: #d4ebff;}#sk-container-id-3 div.sk-parallel-item::after {content: \"\";width: 100%;border-bottom: 1px solid gray;flex-grow: 1;}#sk-container-id-3 div.sk-label:hover label.sk-toggleable__label {background-color: #d4ebff;}#sk-container-id-3 div.sk-serial::before {content: \"\";position: absolute;border-left: 1px solid gray;box-sizing: border-box;top: 0;bottom: 0;left: 50%;z-index: 0;}#sk-container-id-3 div.sk-serial {display: flex;flex-direction: column;align-items: center;background-color: white;padding-right: 0.2em;padding-left: 0.2em;position: relative;}#sk-container-id-3 div.sk-item {position: relative;z-index: 1;}#sk-container-id-3 div.sk-parallel {display: flex;align-items: stretch;justify-content: center;background-color: white;position: relative;}#sk-container-id-3 div.sk-item::before, #sk-container-id-3 div.sk-parallel-item::before {content: \"\";position: absolute;border-left: 1px solid gray;box-sizing: border-box;top: 0;bottom: 0;left: 50%;z-index: -1;}#sk-container-id-3 div.sk-parallel-item {display: flex;flex-direction: column;z-index: 1;position: relative;background-color: white;}#sk-container-id-3 div.sk-parallel-item:first-child::after {align-self: flex-end;width: 50%;}#sk-container-id-3 div.sk-parallel-item:last-child::after {align-self: flex-start;width: 50%;}#sk-container-id-3 div.sk-parallel-item:only-child::after {width: 0;}#sk-container-id-3 div.sk-dashed-wrapped {border: 1px dashed gray;margin: 0 0.4em 0.5em 0.4em;box-sizing: border-box;padding-bottom: 0.4em;background-color: white;}#sk-container-id-3 div.sk-label label {font-family: monospace;font-weight: bold;display: inline-block;line-height: 1.2em;}#sk-container-id-3 div.sk-label-container {text-align: center;}#sk-container-id-3 div.sk-container {/* jupyter's `normalize.less` sets `[hidden] { display: none; }` but bootstrap.min.css set `[hidden] { display: none !important; }` so we also need the `!important` here to be able to override the default hidden behavior on the sphinx rendered scikit-learn.org. See: https://github.com/scikit-learn/scikit-learn/issues/21755 */display: inline-block !important;position: relative;}#sk-container-id-3 div.sk-text-repr-fallback {display: none;}</style><div id=\"sk-container-id-3\" class=\"sk-top-container\"><div class=\"sk-text-repr-fallback\"><pre>GridSearchCV(cv=5, estimator=SVC(C=10, gamma=0.1),\n",
       "             param_grid={&#x27;C&#x27;: [0.001, 0.01, 0.1, 1, 10],\n",
       "                         &#x27;gamma&#x27;: [0.001, 0.01, 0.1, 1]},\n",
       "             scoring=&#x27;accuracy&#x27;)</pre><b>In a Jupyter environment, please rerun this cell to show the HTML representation or trust the notebook. <br />On GitHub, the HTML representation is unable to render, please try loading this page with nbviewer.org.</b></div><div class=\"sk-container\" hidden><div class=\"sk-item sk-dashed-wrapped\"><div class=\"sk-label-container\"><div class=\"sk-label sk-toggleable\"><input class=\"sk-toggleable__control sk-hidden--visually\" id=\"sk-estimator-id-7\" type=\"checkbox\" ><label for=\"sk-estimator-id-7\" class=\"sk-toggleable__label sk-toggleable__label-arrow\">GridSearchCV</label><div class=\"sk-toggleable__content\"><pre>GridSearchCV(cv=5, estimator=SVC(C=10, gamma=0.1),\n",
       "             param_grid={&#x27;C&#x27;: [0.001, 0.01, 0.1, 1, 10],\n",
       "                         &#x27;gamma&#x27;: [0.001, 0.01, 0.1, 1]},\n",
       "             scoring=&#x27;accuracy&#x27;)</pre></div></div></div><div class=\"sk-parallel\"><div class=\"sk-parallel-item\"><div class=\"sk-item\"><div class=\"sk-label-container\"><div class=\"sk-label sk-toggleable\"><input class=\"sk-toggleable__control sk-hidden--visually\" id=\"sk-estimator-id-8\" type=\"checkbox\" ><label for=\"sk-estimator-id-8\" class=\"sk-toggleable__label sk-toggleable__label-arrow\">estimator: SVC</label><div class=\"sk-toggleable__content\"><pre>SVC(C=10, gamma=0.1)</pre></div></div></div><div class=\"sk-serial\"><div class=\"sk-item\"><div class=\"sk-estimator sk-toggleable\"><input class=\"sk-toggleable__control sk-hidden--visually\" id=\"sk-estimator-id-9\" type=\"checkbox\" ><label for=\"sk-estimator-id-9\" class=\"sk-toggleable__label sk-toggleable__label-arrow\">SVC</label><div class=\"sk-toggleable__content\"><pre>SVC(C=10, gamma=0.1)</pre></div></div></div></div></div></div></div></div></div></div>"
      ],
      "text/plain": [
       "GridSearchCV(cv=5, estimator=SVC(C=10, gamma=0.1),\n",
       "             param_grid={'C': [0.001, 0.01, 0.1, 1, 10],\n",
       "                         'gamma': [0.001, 0.01, 0.1, 1]},\n",
       "             scoring='accuracy')"
      ]
     },
     "execution_count": 43,
     "metadata": {},
     "output_type": "execute_result"
    }
   ],
   "source": [
    "# separate into input and output columns\n",
    "X = df.drop('class', axis=1)\n",
    "y = df['class']\n",
    "\n",
    "# train-test split\n",
    "X_train, X_test, y_train, y_test = train_test_split(X, y, test_size=0.33, random_state=38)\n",
    "\n",
    "# fit encoding on the training data first, then apply to training and testing data\n",
    "# ordinal encode input variables\n",
    "onehot_encoder = OneHotEncoder(sparse=False)\n",
    "onehot_encoder.fit(X_train)\n",
    "X_train = onehot_encoder.transform(X_train)\n",
    "\n",
    "# lable encode target variables\n",
    "label_encoder = LabelEncoder()\n",
    "label_encoder.fit(y_train) \n",
    "y_train = label_encoder.transform(y_train)\n",
    "\n",
    "# define the model \n",
    "svm_clf_grid = SVC()\n",
    "\n",
    "# define hyparameter to search\n",
    "param_grid = {\n",
    "    'C': [0.001, 0.01, 0.1, 1, 10],\n",
    "    'gamma': [0.001, 0.01, 0.1, 1]\n",
    "}\n",
    "\n",
    "# define search\n",
    "grid_search = GridSearchCV(svm_clf_best, param_grid, scoring='accuracy', cv=5)\n",
    "\n",
    "# fit the model\n",
    "grid_search.fit(X_train, y_train)"
   ]
  },
  {
   "cell_type": "code",
   "execution_count": 44,
   "id": "6c2ae13f",
   "metadata": {},
   "outputs": [
    {
     "data": {
      "text/plain": [
       "{'C': 10, 'gamma': 0.1}"
      ]
     },
     "execution_count": 44,
     "metadata": {},
     "output_type": "execute_result"
    }
   ],
   "source": [
    "grid_search.best_params_"
   ]
  },
  {
   "cell_type": "markdown",
   "id": "14f9e303",
   "metadata": {},
   "source": [
    "### Step 3: Build the optimal model based on the results of GridSearchCV"
   ]
  },
  {
   "cell_type": "markdown",
   "id": "f6962ded",
   "metadata": {},
   "source": [
    "### Train and fit the model"
   ]
  },
  {
   "cell_type": "code",
   "execution_count": 45,
   "id": "daf41e4b",
   "metadata": {},
   "outputs": [],
   "source": [
    "# separate into input and output columns\n",
    "X = df.drop('class', axis=1)\n",
    "y = df['class']\n",
    "\n",
    "# train-test split\n",
    "X_train, X_test, y_train, y_test = train_test_split(X, y, test_size=0.33)\n",
    "\n",
    "# fit encoding on the training data first, then apply to training and testing data\n",
    "# onehot encode input variables\n",
    "onehot_encoder = OneHotEncoder(sparse=False)\n",
    "onehot_encoder.fit(X_train)\n",
    "X_train = onehot_encoder.transform(X_train)\n",
    "X_test = onehot_encoder.transform(X_test)\n",
    "\n",
    "# lable encode target variables\n",
    "label_encoder = LabelEncoder()\n",
    "label_encoder.fit(y_train) \n",
    "y_train = label_encoder.transform(y_train)\n",
    "y_test = label_encoder.transform(y_test)\n",
    "\n",
    "# define the model\n",
    "svm_clf_best = SVC(C=10, gamma=0.1)\n",
    "\n",
    "# fit on training dataset\n",
    "svm_clf_best.fit(X_train, y_train)\n",
    "\n",
    "# predict on testing dataset\n",
    "y_pred = svm_clf_best.predict(X_test)"
   ]
  },
  {
   "cell_type": "markdown",
   "id": "cc82b204",
   "metadata": {},
   "source": [
    "### Performance Measures"
   ]
  },
  {
   "cell_type": "markdown",
   "id": "eaaef23c",
   "metadata": {},
   "source": [
    "### Precision, Recall, Accuracy, F1"
   ]
  },
  {
   "cell_type": "code",
   "execution_count": 46,
   "id": "50d8f147",
   "metadata": {},
   "outputs": [
    {
     "name": "stdout",
     "output_type": "stream",
     "text": [
      "Accuracy: 0.99299\n"
     ]
    }
   ],
   "source": [
    "print(\"Accuracy: \" + str(round(metrics.accuracy_score(y_test, y_pred),5)))"
   ]
  },
  {
   "cell_type": "code",
   "execution_count": 47,
   "id": "0a6ebd30",
   "metadata": {},
   "outputs": [
    {
     "name": "stdout",
     "output_type": "stream",
     "text": [
      "              precision    recall  f1-score   support\n",
      "\n",
      "           0       0.98      0.99      0.98       123\n",
      "           1       1.00      0.91      0.95        23\n",
      "           2       1.00      1.00      1.00       406\n",
      "           3       1.00      1.00      1.00        19\n",
      "\n",
      "    accuracy                           0.99       571\n",
      "   macro avg       0.99      0.98      0.98       571\n",
      "weighted avg       0.99      0.99      0.99       571\n",
      "\n"
     ]
    }
   ],
   "source": [
    "print(metrics.classification_report(y_test, y_pred))"
   ]
  },
  {
   "cell_type": "markdown",
   "id": "5ff9a6aa",
   "metadata": {},
   "source": [
    "### Confusion Matirx"
   ]
  },
  {
   "cell_type": "code",
   "execution_count": 48,
   "id": "4f455fe2",
   "metadata": {},
   "outputs": [
    {
     "data": {
      "text/plain": [
       "array([[122,   0,   1,   0],\n",
       "       [  2,  21,   0,   0],\n",
       "       [  1,   0, 405,   0],\n",
       "       [  0,   0,   0,  19]])"
      ]
     },
     "execution_count": 48,
     "metadata": {},
     "output_type": "execute_result"
    }
   ],
   "source": [
    "metrics.confusion_matrix(y_test, y_pred)"
   ]
  },
  {
   "cell_type": "markdown",
   "id": "720ec30f",
   "metadata": {},
   "source": [
    "### By treating the target variables as categorical, it achieved the best model performance with the SVM, resulting in an overall accuracy of 0.99299."
   ]
  },
  {
   "cell_type": "markdown",
   "id": "5c3e7596",
   "metadata": {},
   "source": [
    "### Conclusion: SVM demonstrates better predictive performance compared to the other three models, irrespective of whether the target variable is treated as numeric or categorical. Nevertheless, in the final model, treating the target variables as categorical results in a higher accuracy of 0.99299."
   ]
  }
 ],
 "metadata": {
  "kernelspec": {
   "display_name": "Python 3 (ipykernel)",
   "language": "python",
   "name": "python3"
  },
  "language_info": {
   "codemirror_mode": {
    "name": "ipython",
    "version": 3
   },
   "file_extension": ".py",
   "mimetype": "text/x-python",
   "name": "python",
   "nbconvert_exporter": "python",
   "pygments_lexer": "ipython3",
   "version": "3.10.12"
  }
 },
 "nbformat": 4,
 "nbformat_minor": 5
}
